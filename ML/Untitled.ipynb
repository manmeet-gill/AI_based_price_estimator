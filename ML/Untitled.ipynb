{
 "cells": [
  {
   "cell_type": "code",
   "execution_count": 10,
   "metadata": {},
   "outputs": [
    {
     "name": "stdout",
     "output_type": "stream",
     "text": [
      "Load data...\n",
      "Preprocessing data...\n",
      "Creating data partitions...\n",
      "Training model...\n",
      "Results:\n",
      "\taccuracy training: 0.9382211367676482\n",
      "\taccuracy test: 0.8862634990119136\n"
     ]
    }
   ],
   "source": [
    "import numpy as np\n",
    "import pandas as pd\n",
    "import csv\n",
    "\n",
    "from sklearn.neighbors import KNeighborsRegressor\n",
    "from sklearn.preprocessing import OneHotEncoder\n",
    "from sklearn.model_selection import train_test_split\n",
    "\n",
    "# load data from csv\n",
    "print(\"Load data...\")\n",
    "data = pd.read_csv('dataset.csv', keep_default_na=False)\n",
    "dataset = data.values[:,1:]\n",
    "\n",
    "# memory and prices parse to integer\n",
    "print(\"Preprocessing data...\")\n",
    "prices = np.ndarray(dataset[:,-1].shape)\n",
    "mem = np.ndarray(dataset[:,4].shape)\n",
    "c = 0\n",
    "\n",
    "for p in dataset[:,-1]:\n",
    "\tprices[c] = int(p.split('$')[1])\n",
    "\tc+=1\n",
    "\n",
    "dataset[:,-1] = prices\n",
    "c=0\n",
    "\n",
    "for m in dataset[:,4]:\n",
    "\ttry:\n",
    "\t\tmem[c] = int(m.split('gb')[0])\n",
    "\texcept AttributeError:\n",
    "\t\tmem[c] = 0\n",
    "\texcept ValueError:\n",
    "\t\tmem[c] = 0\n",
    "\tfinally:\n",
    "\t\tc+=1\n",
    "\n",
    "dataset[:,4] = mem\n",
    "\n",
    "\n",
    "# all strings parse to binary arrays that mean presence or not\n",
    "enc = OneHotEncoder(handle_unknown='ignore',sparse=False)\n",
    "\n",
    "r = np.reshape(dataset[:,0],(10484,1))\n",
    "\n",
    "brand=enc.fit_transform(r)\n",
    "color=enc.fit_transform(np.reshape(dataset[:,1],(10484,1)))\n",
    "condition=enc.fit_transform(np.reshape(dataset[:,2],(10484,1)))\n",
    "contract=enc.fit_transform(np.reshape(dataset[:,3],(10484,1)))\n",
    "mobOs=enc.fit_transform(np.reshape(dataset[:,5],(10484,1)))\n",
    "model=enc.fit_transform(np.reshape(dataset[:,6],(10484,1)))\n",
    "\n",
    "mem = mem.reshape((10484,1))\n",
    "prices = prices.reshape((10484,1))\n",
    "\n",
    "# adding data\n",
    "print(\"Creating data partitions...\")\n",
    "all_data = np.concatenate((brand,color,condition,contract,mobOs,model,mem,prices),axis=1)\n",
    "\n",
    "# split data set on training data (80%) and test data (20%)\n",
    "X_train, X_test, y_train, y_test = train_test_split(all_data[:,0:-1], all_data[:,-1], test_size=0.2, shuffle=False)\n",
    "\n",
    "# creating model KNN\n",
    "print(\"Training model...\")\n",
    "knnR = KNeighborsRegressor(n_neighbors=5, metric='euclidean', weights='uniform', leaf_size=30)\n",
    "\n",
    "# fit model on training data\n",
    "knnR.fit(X_train, y_train)\n",
    "\n",
    "# scores on R square\n",
    "print(\"Results:\")\n",
    "print(\"\\taccuracy training: \" + str(knnR.score(X_train, y_train)))\n",
    "print(\"\\taccuracy test: \" + str(knnR.score(X_test, y_test)))\n",
    "\n",
    "y_hat = knnR.predict(X_test)\n",
    "y_nn = knnR.kneighbors(X_test, return_distance=False)\n"
   ]
  },
  {
   "cell_type": "code",
   "execution_count": 11,
   "metadata": {},
   "outputs": [
    {
     "data": {
      "text/plain": [
       "array([0., 0., 0., ..., 0., 0., 0.])"
      ]
     },
     "execution_count": 11,
     "metadata": {},
     "output_type": "execute_result"
    }
   ],
   "source": [
    "y_nn = knnR.kneighbors(X_test[0].reshape(1,-1), return_distance=False)\n",
    "X_test[0]"
   ]
  },
  {
   "cell_type": "code",
   "execution_count": 14,
   "metadata": {},
   "outputs": [
    {
     "data": {
      "text/plain": [
       "array([318.])"
      ]
     },
     "execution_count": 14,
     "metadata": {},
     "output_type": "execute_result"
    }
   ],
   "source": [
    "y_hat = knnR.predict(X_test[2].reshape(1,-1))\n",
    "\n",
    "y_hat"
   ]
  },
  {
   "cell_type": "code",
   "execution_count": null,
   "metadata": {},
   "outputs": [],
   "source": []
  }
 ],
 "metadata": {
  "kernelspec": {
   "display_name": "Python 3",
   "language": "python",
   "name": "python3"
  },
  "language_info": {
   "codemirror_mode": {
    "name": "ipython",
    "version": 3
   },
   "file_extension": ".py",
   "mimetype": "text/x-python",
   "name": "python",
   "nbconvert_exporter": "python",
   "pygments_lexer": "ipython3",
   "version": "3.7.3"
  }
 },
 "nbformat": 4,
 "nbformat_minor": 2
}
