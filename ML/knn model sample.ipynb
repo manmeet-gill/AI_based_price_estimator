{
 "cells": [
  {
   "cell_type": "code",
   "execution_count": 1,
   "metadata": {},
   "outputs": [],
   "source": [
    "import pandas as pd\n",
    "import numpy as np\n",
    "import csv"
   ]
  },
  {
   "cell_type": "code",
   "execution_count": 2,
   "metadata": {},
   "outputs": [],
   "source": [
    "from sklearn.neighbors import KNeighborsRegressor\n",
    "from sklearn.preprocessing import OneHotEncoder\n",
    "from sklearn.model_selection import train_test_split\n"
   ]
  },
  {
   "cell_type": "code",
   "execution_count": 3,
   "metadata": {},
   "outputs": [
    {
     "data": {
      "text/html": [
       "<div>\n",
       "<style scoped>\n",
       "    .dataframe tbody tr th:only-of-type {\n",
       "        vertical-align: middle;\n",
       "    }\n",
       "\n",
       "    .dataframe tbody tr th {\n",
       "        vertical-align: top;\n",
       "    }\n",
       "\n",
       "    .dataframe thead th {\n",
       "        text-align: right;\n",
       "    }\n",
       "</style>\n",
       "<table border=\"1\" class=\"dataframe\">\n",
       "  <thead>\n",
       "    <tr style=\"text-align: right;\">\n",
       "      <th></th>\n",
       "      <th>BRAND</th>\n",
       "      <th>COLOUR</th>\n",
       "      <th>CONDITION</th>\n",
       "      <th>CONTRACT</th>\n",
       "      <th>MEMORY</th>\n",
       "      <th>MOBOS</th>\n",
       "      <th>MODEL</th>\n",
       "      <th>PRICE</th>\n",
       "    </tr>\n",
       "  </thead>\n",
       "  <tbody>\n",
       "    <tr>\n",
       "      <td>0</td>\n",
       "      <td>Samsung</td>\n",
       "      <td>gray</td>\n",
       "      <td>4.0</td>\n",
       "      <td>Sprint</td>\n",
       "      <td>256</td>\n",
       "      <td>android</td>\n",
       "      <td>S8 PLUS</td>\n",
       "      <td>270.0</td>\n",
       "    </tr>\n",
       "    <tr>\n",
       "      <td>1</td>\n",
       "      <td>Blu</td>\n",
       "      <td>red</td>\n",
       "      <td>4.0</td>\n",
       "      <td>Unlocked</td>\n",
       "      <td>16</td>\n",
       "      <td>android</td>\n",
       "      <td>Y85</td>\n",
       "      <td>50.0</td>\n",
       "    </tr>\n",
       "    <tr>\n",
       "      <td>2</td>\n",
       "      <td>Samsung</td>\n",
       "      <td>unknow</td>\n",
       "      <td>3.0</td>\n",
       "      <td>Verizon</td>\n",
       "      <td>0</td>\n",
       "      <td>android</td>\n",
       "      <td>S10 plus</td>\n",
       "      <td>745.0</td>\n",
       "    </tr>\n",
       "    <tr>\n",
       "      <td>3</td>\n",
       "      <td>Apple</td>\n",
       "      <td>unknow</td>\n",
       "      <td>4.0</td>\n",
       "      <td>T-Mobile</td>\n",
       "      <td>64</td>\n",
       "      <td>apple ios</td>\n",
       "      <td>iPhone 8 Plus</td>\n",
       "      <td>400.0</td>\n",
       "    </tr>\n",
       "    <tr>\n",
       "      <td>4</td>\n",
       "      <td>Samsung</td>\n",
       "      <td>white</td>\n",
       "      <td>5.0</td>\n",
       "      <td>Unlocked</td>\n",
       "      <td>64</td>\n",
       "      <td>android</td>\n",
       "      <td>NOTE 8</td>\n",
       "      <td>70.0</td>\n",
       "    </tr>\n",
       "    <tr>\n",
       "      <td>...</td>\n",
       "      <td>...</td>\n",
       "      <td>...</td>\n",
       "      <td>...</td>\n",
       "      <td>...</td>\n",
       "      <td>...</td>\n",
       "      <td>...</td>\n",
       "      <td>...</td>\n",
       "      <td>...</td>\n",
       "    </tr>\n",
       "    <tr>\n",
       "      <td>10479</td>\n",
       "      <td>Asus</td>\n",
       "      <td>unknow</td>\n",
       "      <td>2.0</td>\n",
       "      <td>Unlocked</td>\n",
       "      <td>0</td>\n",
       "      <td>android</td>\n",
       "      <td>Rog</td>\n",
       "      <td>450.0</td>\n",
       "    </tr>\n",
       "    <tr>\n",
       "      <td>10480</td>\n",
       "      <td>Apple</td>\n",
       "      <td>unknow</td>\n",
       "      <td>4.0</td>\n",
       "      <td>Unlocked</td>\n",
       "      <td>64</td>\n",
       "      <td>apple ios</td>\n",
       "      <td>Iphone X</td>\n",
       "      <td>450.0</td>\n",
       "    </tr>\n",
       "    <tr>\n",
       "      <td>10481</td>\n",
       "      <td>Apple</td>\n",
       "      <td>black</td>\n",
       "      <td>4.0</td>\n",
       "      <td>At&amp;t</td>\n",
       "      <td>64</td>\n",
       "      <td>apple ios</td>\n",
       "      <td>6 PLUS</td>\n",
       "      <td>235.0</td>\n",
       "    </tr>\n",
       "    <tr>\n",
       "      <td>10482</td>\n",
       "      <td>Lg</td>\n",
       "      <td>black</td>\n",
       "      <td>4.0</td>\n",
       "      <td>Sprint</td>\n",
       "      <td>64</td>\n",
       "      <td>android</td>\n",
       "      <td>V20</td>\n",
       "      <td>120.0</td>\n",
       "    </tr>\n",
       "    <tr>\n",
       "      <td>10483</td>\n",
       "      <td>Lg</td>\n",
       "      <td>black</td>\n",
       "      <td>4.0</td>\n",
       "      <td>Sprint</td>\n",
       "      <td>32</td>\n",
       "      <td>android</td>\n",
       "      <td>V20</td>\n",
       "      <td>120.0</td>\n",
       "    </tr>\n",
       "  </tbody>\n",
       "</table>\n",
       "<p>10484 rows × 8 columns</p>\n",
       "</div>"
      ],
      "text/plain": [
       "         BRAND  COLOUR  CONDITION  CONTRACT  MEMORY      MOBOS          MODEL  \\\n",
       "0      Samsung    gray        4.0    Sprint     256    android        S8 PLUS   \n",
       "1          Blu     red        4.0  Unlocked      16    android            Y85   \n",
       "2      Samsung  unknow        3.0   Verizon       0    android       S10 plus   \n",
       "3        Apple  unknow        4.0  T-Mobile      64  apple ios  iPhone 8 Plus   \n",
       "4      Samsung   white        5.0  Unlocked      64    android         NOTE 8   \n",
       "...        ...     ...        ...       ...     ...        ...            ...   \n",
       "10479     Asus  unknow        2.0  Unlocked       0    android            Rog   \n",
       "10480    Apple  unknow        4.0  Unlocked      64  apple ios       Iphone X   \n",
       "10481    Apple   black        4.0      At&t      64  apple ios         6 PLUS   \n",
       "10482       Lg   black        4.0    Sprint      64    android            V20   \n",
       "10483       Lg   black        4.0    Sprint      32    android            V20   \n",
       "\n",
       "       PRICE  \n",
       "0      270.0  \n",
       "1       50.0  \n",
       "2      745.0  \n",
       "3      400.0  \n",
       "4       70.0  \n",
       "...      ...  \n",
       "10479  450.0  \n",
       "10480  450.0  \n",
       "10481  235.0  \n",
       "10482  120.0  \n",
       "10483  120.0  \n",
       "\n",
       "[10484 rows x 8 columns]"
      ]
     },
     "execution_count": 3,
     "metadata": {},
     "output_type": "execute_result"
    }
   ],
   "source": [
    "# load data from csv\n",
    "data = pd.read_csv('final_data.csv', keep_default_na= False)\n",
    "data"
   ]
  },
  {
   "cell_type": "code",
   "execution_count": 4,
   "metadata": {},
   "outputs": [
    {
     "data": {
      "text/plain": [
       "array([['Samsung', 'gray', 4.0, ..., 'android', 'S8 PLUS', 270.0],\n",
       "       ['Blu', 'red', 4.0, ..., 'android', 'Y85', 50.0],\n",
       "       ['Samsung', 'unknow', 3.0, ..., 'android', 'S10 plus', 745.0],\n",
       "       ...,\n",
       "       ['Apple', 'black', 4.0, ..., 'apple ios', '6 PLUS', 235.0],\n",
       "       ['Lg', 'black', 4.0, ..., 'android', 'V20', 120.0],\n",
       "       ['Lg', 'black', 4.0, ..., 'android', 'V20', 120.0]], dtype=object)"
      ]
     },
     "execution_count": 4,
     "metadata": {},
     "output_type": "execute_result"
    }
   ],
   "source": [
    "dataset = data.values[:,:]\n",
    "dataset"
   ]
  },
  {
   "cell_type": "code",
   "execution_count": 5,
   "metadata": {},
   "outputs": [
    {
     "data": {
      "text/plain": [
       "array([[5.54844948e-313],\n",
       "       [5.54844948e-313],\n",
       "       [5.54844873e-313],\n",
       "       ...,\n",
       "       [5.54844949e-313],\n",
       "       [5.54844951e-313],\n",
       "       [5.54844951e-313]])"
      ]
     },
     "execution_count": 5,
     "metadata": {},
     "output_type": "execute_result"
    }
   ],
   "source": [
    "#using onehotencoder for preprocessing\n",
    "enc = OneHotEncoder(handle_unknown='ignore', sparse=False)\n",
    "prices = np.ndarray(dataset[:,-1].shape)\n",
    "mem = np.ndarray(dataset[:,4].shape)\n",
    "condition = np.ndarray(dataset[:,2].shape)\n",
    "brand=enc.fit_transform(np.reshape(dataset[:,0],(10484,1)))\n",
    "color=enc.fit_transform(np.reshape(dataset[:,1],(10484,1)))\n",
    "contract=enc.fit_transform(np.reshape(dataset[:,3],(10484,1)))\n",
    "mobOs=enc.fit_transform(np.reshape(dataset[:,5],(10484,1)))\n",
    "model=enc.fit_transform(np.reshape(dataset[:,6],(10484,1)))\n",
    "\n",
    "mem = mem.reshape((10484,1))\n",
    "prices = prices.reshape((10484,1))\n",
    "condition = condition.reshape((10484,1))\n",
    "mem"
   ]
  },
  {
   "cell_type": "code",
   "execution_count": 6,
   "metadata": {},
   "outputs": [
    {
     "name": "stdout",
     "output_type": "stream",
     "text": [
      "Creating data partitions...\n"
     ]
    }
   ],
   "source": [
    "#combining all data\n",
    "print(\"Creating data partitions...\")\n",
    "all_data = np.concatenate((condition,mem,brand,color,contract,mobOs,model,prices),axis=1)\n",
    "\n"
   ]
  },
  {
   "cell_type": "code",
   "execution_count": 7,
   "metadata": {},
   "outputs": [
    {
     "name": "stdout",
     "output_type": "stream",
     "text": [
      "Splitting data into train, test 80%--20%...\n"
     ]
    }
   ],
   "source": [
    "# split data set on training data (80%) and test data (20%)\n",
    "print(\"Splitting data into train, test 80%--20%...\")\n",
    "X_train, X_test, y_train, y_test = train_test_split(all_data[:,0:-1], all_data[:,-1], test_size=0.2, shuffle=False)\n",
    "\n"
   ]
  },
  {
   "cell_type": "code",
   "execution_count": 8,
   "metadata": {},
   "outputs": [
    {
     "name": "stdout",
     "output_type": "stream",
     "text": [
      "Training model...\n"
     ]
    },
    {
     "data": {
      "text/plain": [
       "KNeighborsRegressor(algorithm='auto', leaf_size=30, metric='euclidean',\n",
       "                    metric_params=None, n_jobs=None, n_neighbors=3, p=2,\n",
       "                    weights='uniform')"
      ]
     },
     "execution_count": 8,
     "metadata": {},
     "output_type": "execute_result"
    }
   ],
   "source": [
    "# creating model KNN\n",
    "print(\"Training model...\")\n",
    "knnR = KNeighborsRegressor(n_neighbors=3, metric='euclidean', weights='uniform', leaf_size=30)\n",
    "knnR.fit(X_train, y_train)\n"
   ]
  },
  {
   "cell_type": "code",
   "execution_count": 9,
   "metadata": {},
   "outputs": [
    {
     "name": "stdout",
     "output_type": "stream",
     "text": [
      "Results:\n",
      "\taccuracy training: 1.0\n",
      "\taccuracy test: 1.0\n"
     ]
    }
   ],
   "source": [
    "print(\"Results:\")\n",
    "print(\"\\taccuracy training: \" + str(knnR.score(X_train, y_train)))\n",
    "print(\"\\taccuracy test: \" + str(knnR.score(X_test, y_test)))\n"
   ]
  },
  {
   "cell_type": "code",
   "execution_count": 10,
   "metadata": {},
   "outputs": [
    {
     "data": {
      "text/plain": [
       "array([[ 540, 1401, 1472]])"
      ]
     },
     "execution_count": 10,
     "metadata": {},
     "output_type": "execute_result"
    }
   ],
   "source": [
    "y_nn = knnR.kneighbors(X_test[0].reshape(1, -1), return_distance=False)\n",
    "y_nn"
   ]
  },
  {
   "cell_type": "code",
   "execution_count": null,
   "metadata": {},
   "outputs": [],
   "source": []
  }
 ],
 "metadata": {
  "kernelspec": {
   "display_name": "Python 3",
   "language": "python",
   "name": "python3"
  },
  "language_info": {
   "codemirror_mode": {
    "name": "ipython",
    "version": 3
   },
   "file_extension": ".py",
   "mimetype": "text/x-python",
   "name": "python",
   "nbconvert_exporter": "python",
   "pygments_lexer": "ipython3",
   "version": "3.7.3"
  }
 },
 "nbformat": 4,
 "nbformat_minor": 2
}
